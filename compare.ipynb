{
 "cells": [
  {
   "cell_type": "code",
   "execution_count": null,
   "id": "025190f5-a066-446d-a66e-c03710547635",
   "metadata": {},
   "outputs": [
    {
     "name": "stdout",
     "output_type": "stream",
     "text": [
      "(24, 208)\n",
      "(24, 208)\n"
     ]
    }
   ],
   "source": [
    "# %%\n",
    "\n",
    "# compare use_e and use_f\n",
    "import numpy as np\n",
    "\n",
    "use_e = np.load(\"use_e_sorted_token_indices.npy\")\n",
    "use_f = np.load(\"use_full_sorted_token_indices.npy\")\n",
    "use_efull = np.load(\"use_efull_sorted_token_indices.npy\")\n",
    "print(use_e.shape)\n",
    "print(use_f.shape)"
   ]
  },
  {
   "cell_type": "code",
   "execution_count": null,
   "id": "7ddc1b2a-0bfe-4237-a8af-84a5188f7306",
   "metadata": {},
   "outputs": [],
   "source": [
    "# %%\n",
    "\n",
    "top_8_e = use_e[:, -8:]\n",
    "top_8_f = use_f[:, -8:]\n",
    "top_8_efull = use_efull[:, -8:]\n",
    "\n",
    "top_16_e = use_e[:, -16:]\n",
    "top_16_f = use_f[:, -16:]\n",
    "top_16_efull = use_efull[:, -16:]\n",
    "\n",
    "top32_e = use_e[:, -32:]\n",
    "top32_f = use_f[:, -32:]\n",
    "top32_efull = use_efull[:, -32:]"
   ]
  },
  {
   "cell_type": "code",
   "execution_count": null,
   "id": "4e84fec6-0a52-4ff8-a89d-4a048f30dafd",
   "metadata": {},
   "outputs": [
    {
     "name": "stdout",
     "output_type": "stream",
     "text": [
      "recalls8of32\n",
      "[1.    1.    1.    0.875 1.    1.    1.    1.    1.    0.875 1.    1.\n",
      " 1.    1.    1.    1.    1.    1.    0.875 1.    0.875 1.    1.    1.   ]\n"
     ]
    }
   ],
   "source": [
    "# %%\n",
    "\n",
    "recalls8of32 = np.array(\n",
    "    [len(set(top_8_e[i]) & set(top32_f[i])) / 8.0 for i in range(24)]\n",
    ")\n",
    "print(\"recalls8of32\")\n",
    "print(recalls8of32)"
   ]
  },
  {
   "cell_type": "code",
   "execution_count": null,
   "id": "41892f22-8bb4-4f8d-9d40-60feead23ea7",
   "metadata": {},
   "outputs": [
    {
     "name": "stdout",
     "output_type": "stream",
     "text": [
      "recalls8of8\n",
      "[0.75  0.75  0.875 0.875 0.5   0.875 0.875 0.5   0.625 0.625 0.25  0.625\n",
      " 0.875 0.875 0.625 0.625 0.5   0.5   0.625 0.75  0.75  0.75  0.875 0.875]\n"
     ]
    }
   ],
   "source": [
    "# %%\n",
    "\n",
    "recalls8of8 = np.array(\n",
    "    [len(set(top_8_e[i]) & set(top_8_f[i])) / 8.0 for i in range(24)]\n",
    ")\n",
    "print(\"recalls8of8\")\n",
    "print(recalls8of8)"
   ]
  },
  {
   "cell_type": "code",
   "execution_count": null,
   "id": "bab39d5e-4d20-4466-b62e-e4822de9a9df",
   "metadata": {},
   "outputs": [
    {
     "name": "stdout",
     "output_type": "stream",
     "text": [
      "recallefull8of32\n",
      "[1.    1.    1.    1.    1.    1.    0.875 1.    1.    1.    1.    1.\n",
      " 1.    1.    1.    1.    1.    1.    1.    1.    1.    1.    1.    1.   ]\n"
     ]
    }
   ],
   "source": [
    "# %%\n",
    "\n",
    "recallefull8of32 = np.array(\n",
    "    [len(set(top_8_efull[i]) & set(top32_f[i])) / 8.0 for i in range(24)]\n",
    ")\n",
    "print(\"recallefull8of32\")\n",
    "print(recallefull8of32)"
   ]
  },
  {
   "cell_type": "code",
   "execution_count": null,
   "id": "6225ca47-125b-4680-84b2-9f001d6c68e9",
   "metadata": {},
   "outputs": [
    {
     "name": "stdout",
     "output_type": "stream",
     "text": [
      "recallefull8of16\n",
      "[0.875 1.    1.    1.    1.    0.875 0.875 1.    1.    0.875 0.75  1.\n",
      " 1.    1.    0.875 0.75  0.875 0.875 1.    0.875 1.    1.    1.    1.   ]\n"
     ]
    }
   ],
   "source": [
    "# %%\n",
    "\n",
    "recallefull8of16 = np.array(\n",
    "    [len(set(top_8_efull[i]) & set(top_16_f[i])) / 8.0 for i in range(24)]\n",
    ")\n",
    "print(\"recallefull8of16\")\n",
    "print(recallefull8of16)"
   ]
  },
  {
   "cell_type": "code",
   "execution_count": null,
   "id": "02ae1403-f8d6-49b2-ac75-f2234a0bf3bb",
   "metadata": {},
   "outputs": [
    {
     "name": "stdout",
     "output_type": "stream",
     "text": [
      "recallsefull8of8\n",
      "[0.75  0.875 0.875 0.875 0.5   0.875 0.75  0.875 0.625 0.625 0.375 0.625\n",
      " 0.75  0.75  0.75  0.5   0.625 0.75  0.875 0.75  0.75  0.625 0.875 1.   ]\n"
     ]
    }
   ],
   "source": [
    "# %%\n",
    "\n",
    "recallsefull8of8 = np.array(\n",
    "    [len(set(top_8_efull[i]) & set(top_8_f[i])) / 8.0 for i in range(24)]\n",
    ")\n",
    "print(\"recallsefull8of8\")\n",
    "print(recallsefull8of8)"
   ]
  },
  {
   "cell_type": "code",
   "execution_count": null,
   "id": "026b3c4e-4e28-44bb-9c19-614c3c575959",
   "metadata": {},
   "outputs": [
    {
     "name": "stdout",
     "output_type": "stream",
     "text": [
      "[0.9375 0.8125 1.     0.75   0.875  1.     0.875  0.8125 0.8125 0.875\n",
      " 0.75   0.9375 0.875  1.     0.9375 0.9375 0.875  1.     0.75   0.875\n",
      " 0.75   1.     0.9375 1.    ]\n"
     ]
    }
   ],
   "source": [
    "# %%\n",
    "\n",
    "recalls16of32 = np.array(\n",
    "    [len(set(top_16_e[i]) & set(top32_f[i])) / 16.0 for i in range(24)]\n",
    ")\n",
    "print(recalls16of32)"
   ]
  },
  {
   "cell_type": "code",
   "execution_count": null,
   "id": "8011646d-490d-4d60-ae8e-4a833ce6b09e",
   "metadata": {},
   "outputs": [
    {
     "name": "stdout",
     "output_type": "stream",
     "text": [
      "[0.6875  0.71875 0.71875 0.625   0.75    0.6875  0.71875 0.625   0.71875\n",
      " 0.6875  0.59375 0.8125  0.78125 0.75    0.875   0.875   0.71875 0.78125\n",
      " 0.6875  0.6875  0.6875  0.8125  0.8125  0.8125 ]\n"
     ]
    }
   ],
   "source": [
    "# %%\n",
    "\n",
    "recalls32of32 = np.array(\n",
    "    [len(set(top32_e[i]) & set(top32_f[i])) / 32.0 for i in range(24)]\n",
    ")\n",
    "print(recalls32of32)"
   ]
  }
 ],
 "metadata": {
  "language_info": {
   "codemirror_mode": {
    "name": "ipython",
    "version": 3
   },
   "file_extension": ".py",
   "mimetype": "text/x-python",
   "name": "python",
   "nbconvert_exporter": "python",
   "pygments_lexer": "ipython3",
   "version": 3
  }
 },
 "nbformat": 4,
 "nbformat_minor": 2
}
